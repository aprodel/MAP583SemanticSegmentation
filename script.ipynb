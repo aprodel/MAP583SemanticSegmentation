{
 "cells": [
  {
   "cell_type": "code",
   "execution_count": 68,
   "metadata": {
    "collapsed": true
   },
   "outputs": [],
   "source": [
    "from PIL import Image\n",
    "import numpy as np\n",
    "import matplotlib.pyplot as plt\n",
    "import os\n",
    "import torch\n",
    "import torch.nn as nn\n",
    "import torchvision\n",
    "import torchvision.transforms as transforms\n",
    "\n",
    "from load import *"
   ]
  },
  {
   "cell_type": "code",
   "execution_count": 69,
   "metadata": {
    "collapsed": true
   },
   "outputs": [],
   "source": [
    "root_path = 'D:/Cours/DataCamp/project/cityscapes'"
   ]
  },
  {
   "cell_type": "code",
   "execution_count": 70,
   "metadata": {
    "collapsed": true
   },
   "outputs": [],
   "source": [
    "train_dataset=Cityscapes(root_path, \n",
    "                split='train', \n",
    "                mode='fine', \n",
    "                target_type='color', \n",
    "                transform=torchvision.transforms.Compose([transforms.Scale(size=(32,64)),transforms.ToTensor()]), \n",
    "                target_transform=torchvision.transforms.Compose([transforms.Scale(size=(32,64)),transforms.ToTensor()]))"
   ]
  },
  {
   "cell_type": "code",
   "execution_count": 71,
   "metadata": {},
   "outputs": [
    {
     "name": "stdout",
     "output_type": "stream",
     "text": [
      "<class 'load.Cityscapes'>\n",
      "2975\n",
      "<class 'tuple'>\n",
      "2\n",
      "<class 'torch.Tensor'>\n",
      "torch.Size([3, 32, 64])\n",
      "torch.Size([4, 32, 64])\n"
     ]
    }
   ],
   "source": [
    "print(type(train_dataset))\n",
    "print(len(train_dataset))\n",
    "print(type(train_dataset[0]))\n",
    "print(len(train_dataset[0]))\n",
    "print(type(train_dataset[0][1]))\n",
    "print(train_dataset[0][0].shape)\n",
    "print(train_dataset[0][1].shape)"
   ]
  },
  {
   "cell_type": "code",
   "execution_count": 72,
   "metadata": {
    "collapsed": true
   },
   "outputs": [],
   "source": [
    "train_loader = torch.utils.data.DataLoader(\n",
    "    train_dataset,\n",
    "    batch_size=32,\n",
    "    num_workers=1,\n",
    "    shuffle=True\n",
    ")"
   ]
  },
  {
   "cell_type": "code",
   "execution_count": 73,
   "metadata": {
    "collapsed": true
   },
   "outputs": [],
   "source": [
    "test_dataset=Cityscapes(root_path, \n",
    "                split='test', \n",
    "                mode='fine', \n",
    "                target_type='color', \n",
    "                transform=torchvision.transforms.Compose([transforms.Scale(size=(32,64)),transforms.ToTensor()]), \n",
    "                target_transform=torchvision.transforms.Compose([transforms.Scale(size=(32,64)),transforms.ToTensor()]))"
   ]
  },
  {
   "cell_type": "code",
   "execution_count": 74,
   "metadata": {},
   "outputs": [
    {
     "name": "stdout",
     "output_type": "stream",
     "text": [
      "1525\n",
      "<class 'torch.Tensor'>\n",
      "tensor([[[0., 0., 0.,  ..., 0., 0., 0.],\n",
      "         [0., 0., 0.,  ..., 0., 0., 0.],\n",
      "         [0., 0., 0.,  ..., 0., 0., 0.],\n",
      "         ...,\n",
      "         [0., 0., 0.,  ..., 0., 0., 0.],\n",
      "         [0., 0., 0.,  ..., 0., 0., 0.],\n",
      "         [0., 0., 0.,  ..., 0., 0., 0.]],\n",
      "\n",
      "        [[0., 0., 0.,  ..., 0., 0., 0.],\n",
      "         [0., 0., 0.,  ..., 0., 0., 0.],\n",
      "         [0., 0., 0.,  ..., 0., 0., 0.],\n",
      "         ...,\n",
      "         [0., 0., 0.,  ..., 0., 0., 0.],\n",
      "         [0., 0., 0.,  ..., 0., 0., 0.],\n",
      "         [0., 0., 0.,  ..., 0., 0., 0.]],\n",
      "\n",
      "        [[0., 0., 0.,  ..., 0., 0., 0.],\n",
      "         [0., 0., 0.,  ..., 0., 0., 0.],\n",
      "         [0., 0., 0.,  ..., 0., 0., 0.],\n",
      "         ...,\n",
      "         [0., 0., 0.,  ..., 0., 0., 0.],\n",
      "         [0., 0., 0.,  ..., 0., 0., 0.],\n",
      "         [0., 0., 0.,  ..., 0., 0., 0.]],\n",
      "\n",
      "        [[1., 1., 1.,  ..., 1., 1., 1.],\n",
      "         [1., 1., 1.,  ..., 1., 1., 1.],\n",
      "         [1., 1., 1.,  ..., 1., 1., 1.],\n",
      "         ...,\n",
      "         [1., 1., 1.,  ..., 1., 1., 1.],\n",
      "         [1., 1., 1.,  ..., 1., 1., 1.],\n",
      "         [1., 1., 1.,  ..., 1., 1., 1.]]])\n"
     ]
    }
   ],
   "source": [
    "print(len(test_dataset))\n",
    "print(type(test_dataset[0][1]))\n",
    "print(test_dataset[0][1])"
   ]
  },
  {
   "cell_type": "code",
   "execution_count": 75,
   "metadata": {
    "collapsed": true
   },
   "outputs": [],
   "source": [
    "from BasicBlocks import * \n",
    "\n",
    "class UnetGenerator(nn.Module):\n",
    "\n",
    "    def __init__(self,in_dim,out_dim,num_filter):\n",
    "        super(UnetGenerator,self).__init__()\n",
    "        self.in_dim = in_dim\n",
    "        self.out_dim = out_dim\n",
    "        self.num_filter = num_filter\n",
    "        act_fn = nn.LeakyReLU(0.2, inplace=True)\n",
    "\n",
    "        print(\"\\n------Initiating U-Net------\\n\")\n",
    "\n",
    "        self.down_1 = conv_block_2(self.in_dim,self.num_filter,act_fn)\n",
    "        self.pool_1 = maxpool()\n",
    "        self.down_2 = conv_block_2(self.num_filter*1,self.num_filter*2,act_fn)\n",
    "        self.pool_2 = maxpool()\n",
    "        self.down_3 = conv_block_2(self.num_filter*2,self.num_filter*4,act_fn)\n",
    "        self.pool_3 = maxpool()\n",
    "        self.down_4 = conv_block_2(self.num_filter*4,self.num_filter*8,act_fn)\n",
    "        self.pool_4 = maxpool()\n",
    "\n",
    "        self.bridge = conv_block_2(self.num_filter*8,self.num_filter*16,act_fn)\n",
    "\n",
    "        self.trans_1 = conv_trans_block(self.num_filter*16,self.num_filter*8,act_fn)\n",
    "        self.up_1 = conv_block_2(self.num_filter*16,self.num_filter*8,act_fn)\n",
    "        self.trans_2 = conv_trans_block(self.num_filter*8,self.num_filter*4,act_fn)\n",
    "        self.up_2 = conv_block_2(self.num_filter*8,self.num_filter*4,act_fn)\n",
    "        self.trans_3 = conv_trans_block(self.num_filter*4,self.num_filter*2,act_fn)\n",
    "        self.up_3 = conv_block_2(self.num_filter*4,self.num_filter*2,act_fn)\n",
    "        self.trans_4 = conv_trans_block(self.num_filter*2,self.num_filter*1,act_fn)\n",
    "        self.up_4 = conv_block_2(self.num_filter*2,self.num_filter*1,act_fn)\n",
    "\n",
    "        self.out = nn.Sequential(\n",
    "                nn.Conv2d(self.num_filter,self.out_dim,3,1,1),\n",
    "            nn.Tanh(),)\n",
    "\n",
    "    def forward(self,input):\n",
    "        \n",
    "        down_1 = self.down_1(input)\n",
    "        pool_1 = self.pool_1(down_1)\n",
    "        down_2 = self.down_2(pool_1)\n",
    "        pool_2 = self.pool_2(down_2)\n",
    "        down_3 = self.down_3(pool_2)\n",
    "        pool_3 = self.pool_3(down_3)\n",
    "        down_4 = self.down_4(pool_3)\n",
    "        pool_4 = self.pool_4(down_4)\n",
    "        \n",
    "        bridge = self.bridge(pool_4)\n",
    "\n",
    "        trans_1 = self.trans_1(bridge)\n",
    "        concat_1 = torch.cat([trans_1,down_4],dim=1)\n",
    "        up_1 = self.up_1(concat_1)\n",
    "        trans_2 = self.trans_2(up_1)\n",
    "        concat_2 = torch.cat([trans_2,down_3],dim=1)\n",
    "        up_2 = self.up_2(concat_2)\n",
    "        trans_3 = self.trans_3(up_2)\n",
    "        concat_3 = torch.cat([trans_3,down_2],dim=1)\n",
    "        up_3 = self.up_3(concat_3)\n",
    "        trans_4 = self.trans_4(up_3)\n",
    "        concat_4 = torch.cat([trans_4,down_1],dim=1)\n",
    "        up_4 = self.up_4(concat_4)\n",
    "\n",
    "        out = self.out(up_4)\n",
    "\n",
    "        return out"
   ]
  },
  {
   "cell_type": "code",
   "execution_count": 76,
   "metadata": {},
   "outputs": [
    {
     "name": "stdout",
     "output_type": "stream",
     "text": [
      "\n",
      "------Initiating U-Net------\n",
      "\n"
     ]
    }
   ],
   "source": [
    "epochs=1\n",
    "lr = 0.0002\n",
    "\n",
    "generator = UnetGenerator(3,4,32)\n",
    "optimizer = torch.optim.Adam(generator.parameters(),lr=lr)\n",
    "loss_fn = nn.MSELoss()"
   ]
  },
  {
   "cell_type": "code",
   "execution_count": 77,
   "metadata": {},
   "outputs": [
    {
     "name": "stdout",
     "output_type": "stream",
     "text": [
      "Epoch 0\n",
      "num 1\n",
      "num 2\n",
      "num 3\n",
      "num 4\n",
      "num 5\n",
      "num 6\n",
      "num 7\n",
      "num 8\n",
      "num 9\n",
      "num 11\n",
      "num 12\n",
      "num 13\n",
      "num 14\n",
      "num 15\n",
      "num 16\n",
      "num 17\n",
      "num 18\n",
      "num 19\n",
      "num 21\n",
      "num 22\n",
      "num 23\n",
      "num 24\n",
      "num 25\n",
      "num 26\n",
      "num 27\n",
      "num 28\n",
      "num 29\n",
      "num 31\n",
      "num 32\n",
      "num 33\n",
      "num 34\n",
      "num 35\n",
      "num 36\n",
      "num 37\n",
      "num 38\n",
      "num 39\n",
      "num 41\n",
      "num 42\n",
      "num 43\n",
      "num 44\n",
      "num 45\n",
      "num 46\n",
      "num 47\n",
      "num 48\n",
      "num 49\n",
      "num 51\n",
      "num 52\n",
      "num 53\n",
      "num 54\n",
      "num 55\n",
      "num 56\n",
      "num 57\n",
      "num 58\n",
      "num 59\n",
      "num 61\n",
      "num 62\n",
      "num 63\n",
      "num 64\n",
      "num 65\n",
      "num 66\n",
      "num 67\n",
      "num 68\n",
      "num 69\n",
      "num 71\n",
      "num 72\n",
      "num 73\n",
      "num 74\n",
      "num 75\n",
      "num 76\n",
      "num 77\n",
      "num 78\n",
      "num 79\n",
      "num 81\n",
      "num 82\n",
      "num 83\n",
      "num 84\n",
      "num 85\n",
      "num 86\n",
      "num 87\n",
      "num 88\n",
      "num 89\n",
      "num 91\n",
      "num 92\n",
      "num 93\n"
     ]
    }
   ],
   "source": [
    "\n",
    "for epoch in range(epochs):\n",
    "    suivi=0\n",
    "    print(\"Epoch \"+str(epoch))\n",
    "    for batch_id, (source, target) in enumerate(train_loader):\n",
    "        suivi+=1\n",
    "        target=target.float()\n",
    "        optimizer.zero_grad()\n",
    "        x = Variable(source)\n",
    "        y_ = Variable(target)\n",
    "        y = generator.forward(x)\n",
    "        loss = loss_fn(y,y_)\n",
    "        loss.backward()\n",
    "        optimizer.step()\n",
    "        if suivi%10:\n",
    "            print(\"num \"+str(suivi))"
   ]
  },
  {
   "cell_type": "code",
   "execution_count": 78,
   "metadata": {
    "collapsed": true
   },
   "outputs": [],
   "source": [
    "test_loader = torch.utils.data.DataLoader(\n",
    "    test_dataset,\n",
    "    batch_size=32,\n",
    "    num_workers=1,\n",
    "    shuffle=True\n",
    ")"
   ]
  },
  {
   "cell_type": "code",
   "execution_count": 79,
   "metadata": {},
   "outputs": [
    {
     "name": "stdout",
     "output_type": "stream",
     "text": [
      "num 1\n",
      "num 2\n",
      "num 3\n",
      "num 4\n",
      "num 5\n",
      "num 6\n",
      "num 7\n",
      "num 8\n",
      "num 9\n",
      "num 11\n"
     ]
    }
   ],
   "source": [
    "suivi=0\n",
    "set_source=[]\n",
    "set_target=[]\n",
    "set_output=[]\n",
    "for batch_id, (source, target) in enumerate(test_loader):\n",
    "    suivi+=1\n",
    "    #target=target.float()\n",
    "    x = Variable(source)\n",
    "    #y_ = Variable(target)\n",
    "    y = generator.forward(x)\n",
    "    #loss = loss_fn(y,y_)\n",
    "    set_source.append(source)\n",
    "    set_output.append(y)\n",
    "    if suivi%10:\n",
    "        print(\"num \"+str(suivi))\n",
    "    if batch_id==10:\n",
    "        break"
   ]
  },
  {
   "cell_type": "code",
   "execution_count": 80,
   "metadata": {},
   "outputs": [
    {
     "name": "stdout",
     "output_type": "stream",
     "text": [
      "11\n",
      "32\n",
      "torch.Size([4, 32, 64])\n"
     ]
    }
   ],
   "source": [
    "print(len(set_output))\n",
    "print(len(set_output[0]))\n",
    "print(set_output[0][0].shape)"
   ]
  },
  {
   "cell_type": "code",
   "execution_count": 81,
   "metadata": {
    "collapsed": true
   },
   "outputs": [],
   "source": [
    "def show(img):\n",
    "    npimg = img.detach().numpy()\n",
    "    plt.figure(figsize=(20,10))\n",
    "    plt.imshow(np.transpose(npimg, (1,2,0)), interpolation='nearest')"
   ]
  },
  {
   "cell_type": "code",
   "execution_count": 84,
   "metadata": {},
   "outputs": [
    {
     "name": "stderr",
     "output_type": "stream",
     "text": [
      "Clipping input data to the valid range for imshow with RGB data ([0..1] for floats or [0..255] for integers).\n"
     ]
    },
    {
     "data": {
      "image/png": "[encoded data removed]",
      "text/plain": [
       "<Figure size 1440x720 with 1 Axes>"
      ]
     },
     "metadata": {
      "needs_background": "light"
     },
     "output_type": "display_data"
    },
    {
     "data": {
      "image/png": "[encoded data removed]",
      "text/plain": [
       "<Figure size 1440x720 with 1 Axes>"
      ]
     },
     "metadata": {
      "needs_background": "light"
     },
     "output_type": "display_data"
    }
   ],
   "source": [
    "show(set_output[0][3])\n",
    "show(set_source[0][3])\n",
    "plt.show()"
   ]
  },
  {
   "cell_type": "code",
   "execution_count": 86,
   "metadata": {},
   "outputs": [
    {
     "name": "stderr",
     "output_type": "stream",
     "text": [
      "Clipping input data to the valid range for imshow with RGB data ([0..1] for floats or [0..255] for integers).\n"
     ]
    },
    {
     "data": {
      "image/png": "[encoded data removed]",
      "text/plain": [
       "<Figure size 1440x720 with 1 Axes>"
      ]
     },
     "metadata": {
      "needs_background": "light"
     },
     "output_type": "display_data"
    },
    {
     "data": {
      "image/png": "[encoded data removed]",
      "text/plain": [
       "<Figure size 1440x720 with 1 Axes>"
      ]
     },
     "metadata": {
      "needs_background": "light"
     },
     "output_type": "display_data"
    }
   ],
   "source": [
    "show(set_output[5][17])\n",
    "show(set_source[5][17])\n",
    "plt.show()"
   ]
  }
 ],
 "metadata": {
  "kernelspec": {
   "display_name": "Python 3",
   "language": "python",
   "name": "python3"
  },
  "language_info": {
   "codemirror_mode": {
    "name": "ipython",
    "version": 3
   },
   "file_extension": ".py",
   "mimetype": "text/x-python",
   "name": "python",
   "nbconvert_exporter": "python",
   "pygments_lexer": "ipython3",
   "version": "3.6.3"
  }
 },
 "nbformat": 4,
 "nbformat_minor": 2
}
